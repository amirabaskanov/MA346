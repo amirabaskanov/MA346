{
  "nbformat": 4,
  "nbformat_minor": 0,
  "metadata": {
    "colab": {
      "provenance": []
    },
    "kernelspec": {
      "name": "python3",
      "display_name": "Python 3"
    },
    "language_info": {
      "name": "python"
    }
  },
  "cells": [
    {
      "cell_type": "code",
      "execution_count": 25,
      "metadata": {
        "id": "olsQXEtMlbtD"
      },
      "outputs": [],
      "source": [
        "import numpy as np\n",
        "import pandas as pd"
      ]
    },
    {
      "cell_type": "markdown",
      "source": [
        "# Introduction\n",
        "\n",
        "For this week's notebook exercises we'll be training our fundamentals of data manipulation. Note, one of my goals for the class was to ensure that everyone had seen the code for subsetting a dataframe about a thousand times within the semester. Though it may seem mundane, operations like subsetting are so essential to data wrangling, underpin so many other complex manipulations, that you can seldom get \"too good\" at them. The tricky part is keeping things interesting."
      ],
      "metadata": {
        "id": "yXlrLXpNliB7"
      }
    },
    {
      "cell_type": "markdown",
      "source": [
        "# Homework\n",
        "\n",
        "Let's pretend that you work for an automobile regulatory agency. One of the key questions you have is the relationship between city gas mileage and highway gas mileage. Generally, city gas mileage is consistently lower than highway gas mileage, just given the necessity of stopping-and-starting with traffic lights, stop signs, crosswalks, etc. But *across* cars, city mileage should track closely to highway mileage, gas efficiency being an intrinsic part of a car's design.\n",
        "\n",
        "Run the code chunk below to get your dataset (note I've tampered with this otherwise real data set for the sake of this assignment), and answer the following questions. Highway mileage is given by the variable `hwy`, and city mileage is given by the variable `cty`.\n",
        "\n",
        "1) Let's define outliers as values that are $1.5^*IQR$ greater than the 3rd quartile, or $1.5^*IQR$ less than the 1st quartile ($IQR$ is the 3rd quartile minus the 1st quartile). Any cars that are outliers on *either* `cty` or `hwy` will be considered outliers for question 1 and 2. How many cars are outliers with regard to this definition?\n",
        "\n",
        "2) What's the difference in correlation between highway mileage and city mileage when considering only non-outliers, and when considering all the data?\n",
        "\n",
        "3) Now let's define outliers in terms of how strange the *relationship* between our variables of interest are. Create a new variable called `hwylesscty` that's defined as the absolute value difference between highway mileage and city mileage for each car. How many cars are outliers with regard to `hwylesscty`?\n",
        "\n",
        "4) This time we'll define outliers based on 'residuals'. Run a linear model regressing `hwy` on `cty` using *all* the data, and calculate the residuals for each observations (i.e., the difference between the predicted `hwy` value and the observed `hwy` value). How many observations' residuals values are outliers (similar IQR-based definition as explained in Question 1)?\n",
        "\n",
        "5) Subset the data to take out the observations with 'high' residuals (as defined in Question 4). What's the difference in correlation between highway mileage and city mileage when considering this subset versus all the data?"
      ],
      "metadata": {
        "id": "Qw8-OGc8lgs_"
      }
    },
    {
      "cell_type": "code",
      "source": [
        "#!!!DO NOT TOUCH ANYTHING BELOW HERE!!!#\n",
        "def func_datgen(pernoseq):\n",
        "  np.random.seed(pernoseq)\n",
        "  tempdat = pd.read_csv('https://raw.githubusercontent.com/tidyverse/ggplot2/main/data-raw/mpg.csv')\n",
        "  tempdat = tempdat.loc[np.random.choice(np.arange(0, len(tempdat)), int(2*(len(tempdat)/3)), replace = False)]\n",
        "  tempdat = tempdat.reset_index(drop = True)\n",
        "  targetidx = np.random.choice(np.arange(0, len(tempdat)), np.random.choice(np.arange(11, 15)), replace = False)\n",
        "  tempdat.loc[targetidx, 'hwy'] = np.around(tempdat.loc[targetidx, 'hwy'] + np.random.uniform(15, 20, len(targetidx)), 0)\n",
        "  targetidx = np.random.choice(np.arange(0, len(tempdat)), np.random.choice(np.arange(14, 17)), replace = False)\n",
        "  tempdat.loc[targetidx, 'cty'] = np.around(tempdat.loc[targetidx, 'cty'] + np.random.uniform(-7, -5, len(targetidx)), 0)\n",
        "  targetidx1 = np.random.choice(np.where((tempdat['hwy'] > np.quantile(tempdat['hwy'], .75)) & (tempdat['cty'] > np.quantile(tempdat['cty'], .75)))[0], 3)\n",
        "  targetidx2 = np.random.choice(np.where((tempdat['hwy'] < np.quantile(tempdat['hwy'], .25)) & (tempdat['cty'] < np.quantile(tempdat['cty'], .25)))[0], 3)\n",
        "  tempdat.loc[targetidx1, 'hwy'], tempdat.loc[targetidx2, 'hwy'] = tempdat.loc[targetidx2, 'hwy'].values, tempdat.loc[targetidx1, 'hwy'].values\n",
        "  return tempdat\n",
        "#!!!DO NOT TOUCH ANYTHING ABOVE HERE!!!#"
      ],
      "metadata": {
        "id": "T-rQqVYYldCp"
      },
      "execution_count": 26,
      "outputs": []
    },
    {
      "cell_type": "code",
      "source": [
        "cardat = func_datgen(1111)"
      ],
      "metadata": {
        "id": "qO-tDIXxluIb"
      },
      "execution_count": 27,
      "outputs": []
    },
    {
      "cell_type": "markdown",
      "source": [
        "# Question 1"
      ],
      "metadata": {
        "id": "aBL5-pspCHCD"
      }
    },
    {
      "cell_type": "code",
      "source": [
        "def find_outliers(data, column):\n",
        "    Q1 = data[column].quantile(0.25)\n",
        "    Q3 = data[column].quantile(0.75)\n",
        "    IQR = Q3 - Q1\n",
        "    lower_bound = Q1 - 1.5 * IQR\n",
        "    upper_bound = Q3 + 1.5 * IQR\n",
        "    return data[(data[column] < lower_bound) | (data[column] > upper_bound)]\n",
        "\n",
        "outliers_cty = find_outliers(cardat, 'cty')\n",
        "outliers_hwy = find_outliers(cardat, 'hwy')\n",
        "\n",
        "outliers = pd.concat([outliers_cty, outliers_hwy]).drop_duplicates()\n",
        "num_outliers = len(outliers)\n",
        "print(f\"Number of outlier cars (cty or hwy): {num_outliers}\")"
      ],
      "metadata": {
        "colab": {
          "base_uri": "https://localhost:8080/"
        },
        "id": "if7CTKogA2O9",
        "outputId": "ba425cd3-f5c5-417d-cbe2-ac6d1b758368"
      },
      "execution_count": 28,
      "outputs": [
        {
          "output_type": "stream",
          "name": "stdout",
          "text": [
            "Number of outlier cars (cty or hwy): 4\n"
          ]
        }
      ]
    },
    {
      "cell_type": "markdown",
      "source": [
        "# Question 2"
      ],
      "metadata": {
        "id": "s6Bf8yT5DOvZ"
      }
    },
    {
      "cell_type": "code",
      "source": [
        "corr_all = cardat['hwy'].corr(cardat['cty'])\n",
        "corr_all\n",
        "\n",
        "non_outliers = cardat.drop(outliers.index)\n",
        "corr_non_outliers = non_outliers['hwy'].corr(non_outliers['cty'])\n",
        "corr_non_outliers\n",
        "\n",
        "print(f\"Correlation (non-outliers): {corr_non_outliers}\")\n",
        "print(f\"Correlation (all data): {corr_all}\")\n",
        "diff = corr_non_outliers - corr_all\n",
        "print(f\"Difference: {diff}\")"
      ],
      "metadata": {
        "colab": {
          "base_uri": "https://localhost:8080/"
        },
        "id": "i7g2pHDQCdjM",
        "outputId": "31959ac2-9a4c-4a9d-a5f4-2e7ac55e1a9c"
      },
      "execution_count": 29,
      "outputs": [
        {
          "output_type": "stream",
          "name": "stdout",
          "text": [
            "Correlation (non-outliers): 0.5212470134771511\n",
            "Correlation (all data): 0.5446833309628328\n",
            "Difference: -0.023436317485681757\n"
          ]
        }
      ]
    },
    {
      "cell_type": "markdown",
      "source": [
        "# Question 3"
      ],
      "metadata": {
        "id": "ehkQz-2gDRF6"
      }
    },
    {
      "cell_type": "code",
      "source": [
        "cardat['hwylesscty'] = np.abs(cardat['hwy'] - cardat['cty'])\n",
        "outliers_hwylesscty = find_outliers(cardat, 'hwylesscty')\n",
        "num_outliers_hwylesscty = len(outliers_hwylesscty)\n",
        "print(f\"Number of outliers for hwylesscty: {num_outliers_hwylesscty}\")"
      ],
      "metadata": {
        "colab": {
          "base_uri": "https://localhost:8080/"
        },
        "id": "Fch2Lo2kDQe2",
        "outputId": "bc7d5429-467f-4751-f456-3af945476372"
      },
      "execution_count": 30,
      "outputs": [
        {
          "output_type": "stream",
          "name": "stdout",
          "text": [
            "Number of outliers for hwylesscty: 16\n"
          ]
        }
      ]
    },
    {
      "cell_type": "markdown",
      "source": [
        "# Question 4"
      ],
      "metadata": {
        "id": "z-bEeLlJDudY"
      }
    },
    {
      "cell_type": "code",
      "source": [
        "from sklearn.linear_model import LinearRegression\n",
        "\n",
        "X = cardat[['cty']]\n",
        "y = cardat['hwy']\n",
        "model = LinearRegression().fit(X, y)\n",
        "y_pred = model.predict(X)\n",
        "cardat['residuals'] = y - y_pred\n",
        "outliers_residuals = find_outliers(cardat, 'residuals')\n",
        "num_outliers_residuals = len(outliers_residuals)\n",
        "num_outliers_residuals"
      ],
      "metadata": {
        "colab": {
          "base_uri": "https://localhost:8080/"
        },
        "id": "7I2YHmLhDv2I",
        "outputId": "f0a856fc-c855-4728-92ad-870b60225e64"
      },
      "execution_count": 31,
      "outputs": [
        {
          "output_type": "execute_result",
          "data": {
            "text/plain": [
              "18"
            ]
          },
          "metadata": {},
          "execution_count": 31
        }
      ]
    },
    {
      "cell_type": "markdown",
      "source": [
        "# Question 5"
      ],
      "metadata": {
        "id": "a3zvuDGGEWnJ"
      }
    },
    {
      "cell_type": "code",
      "source": [
        "corr_all = cardat['hwy'].corr(cardat['cty'])\n",
        "corr_all\n",
        "\n",
        "non_outliers = cardat.drop(outliers_residuals.index)\n",
        "corr_non_outliers = non_outliers['hwy'].corr(non_outliers['cty'])\n",
        "corr_non_outliers\n",
        "\n",
        "print(f\"Correlation (non-outliers): {corr_non_outliers}\")\n",
        "print(f\"Correlation (all data): {corr_all}\")\n",
        "diff = corr_non_outliers - corr_all\n",
        "print(f\"Difference: {diff}\")"
      ],
      "metadata": {
        "colab": {
          "base_uri": "https://localhost:8080/"
        },
        "id": "MFsbCIYkEYcl",
        "outputId": "f30463ac-f0d9-40cf-8de7-6e950393ea0c"
      },
      "execution_count": 32,
      "outputs": [
        {
          "output_type": "stream",
          "name": "stdout",
          "text": [
            "Correlation (non-outliers): 0.8896335725812826\n",
            "Correlation (all data): 0.5446833309628328\n",
            "Difference: 0.3449502416184498\n"
          ]
        }
      ]
    },
    {
      "cell_type": "code",
      "source": [
        "#This code chunk demonstrates how to export your answers into a .csv file\n",
        "#Fill in each part with your answers:\n",
        "exportobj = pd.DataFrame({'PerNoSeq': [1111],'Question1': [4], 'Question2': [0.0234], 'Question3': [16], 'Question4': [18], 'Question5': [0.345], 'CollaboratorNames': ['Amir Abaskanov']})\n",
        "      #Note, fill in with '' if no collaborators; if multiple, type names in one '' separated with commas\n",
        "          #For example: pd.DataFrame({'PerNoSeq': [12345],'Question1': ['Ifrit'], 'Question2': ['Gaia'], 'Question3': ['Horus'], 'Question4': [999], 'Question5': [999], 'CollaboratorNames': ['Eddie Kim, Kimber Brown, Meryl Streep']})\n",
        "\n",
        "#Then, export your object with the code below\n",
        "exportobj.to_csv(\"AmirAbaskanovWeekW12.csv\")\n",
        "    #Remember that after exporting, the file will appear in the \"Files\" tab (check the LHS of the screen); from there, download onto your machine, and upload it to Blackboard"
      ],
      "metadata": {
        "id": "0YrWls6jlu6y"
      },
      "execution_count": 35,
      "outputs": []
    },
    {
      "cell_type": "markdown",
      "source": [
        "Based on the personal number sequence `12345`, the answers to the above questions should be as follows:\n",
        "\n",
        "1: 4\n",
        "\n",
        "2: 0.0173\n",
        "\n",
        "3: 14\n",
        "\n",
        "4: 16\n",
        "\n",
        "5: 0.258"
      ],
      "metadata": {
        "id": "12bWa4xPl3-i"
      }
    }
  ]
}